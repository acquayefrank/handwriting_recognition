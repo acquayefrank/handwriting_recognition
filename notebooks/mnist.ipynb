{
 "cells": [
  {
   "cell_type": "code",
   "execution_count": 1,
   "metadata": {},
   "outputs": [],
   "source": [
    "import tensorflow as tf\n",
    "(X_train, y_train), (X_test, y_test) =  tf.keras.datasets.mnist.load_data(\n",
    "    path='mnist.npz'\n",
    ")"
   ]
  },
  {
   "cell_type": "code",
   "execution_count": 2,
   "metadata": {},
   "outputs": [],
   "source": [
    "import matplotlib.pyplot as plt"
   ]
  },
  {
   "cell_type": "code",
   "execution_count": 3,
   "metadata": {},
   "outputs": [
    {
     "data": {
      "image/png": "[encoded data removed]",
      "text/plain": [
       "<Figure size 432x288 with 4 Axes>"
      ]
     },
     "metadata": {
      "needs_background": "light"
     },
     "output_type": "display_data"
    }
   ],
   "source": [
    "# plot 4 images as gray scale\n",
    "plt.subplot(221)\n",
    "plt.imshow(X_train[0], cmap=plt.get_cmap('gray'))\n",
    "plt.subplot(222)\n",
    "plt.imshow(X_train[1], cmap=plt.get_cmap('gray'))\n",
    "plt.subplot(223)\n",
    "plt.imshow(X_train[2], cmap=plt.get_cmap('gray'))\n",
    "plt.subplot(224)\n",
    "plt.imshow(X_train[3], cmap=plt.get_cmap('gray'))\n",
    "# show the plot\n",
    "plt.show()"
   ]
  },
  {
   "cell_type": "code",
   "execution_count": 4,
   "metadata": {},
   "outputs": [],
   "source": [
    "Sequential = tf.keras.Sequential"
   ]
  },
  {
   "cell_type": "code",
   "execution_count": 5,
   "metadata": {},
   "outputs": [],
   "source": [
    "Dense = tf.keras.layers.Dense"
   ]
  },
  {
   "cell_type": "code",
   "execution_count": 6,
   "metadata": {},
   "outputs": [],
   "source": [
    "Dropout = tf.keras.layers.Dropout"
   ]
  },
  {
   "cell_type": "code",
   "execution_count": 7,
   "metadata": {},
   "outputs": [],
   "source": [
    "np_utils = tf.keras.utils.to_categorical"
   ]
  },
  {
   "cell_type": "code",
   "execution_count": 8,
   "metadata": {},
   "outputs": [],
   "source": [
    "# flatten 28*28 images to a 784 vector for each image\n",
    "num_pixels = X_train.shape[1] * X_train.shape[2]\n",
    "X_train = X_train.reshape((X_train.shape[0], num_pixels)).astype('float32')\n",
    "X_test = X_test.reshape((X_test.shape[0], num_pixels)).astype('float32')"
   ]
  },
  {
   "cell_type": "code",
   "execution_count": 9,
   "metadata": {},
   "outputs": [],
   "source": [
    "# normalize inputs from 0-255 to 0-1\n",
    "X_train = X_train / 255\n",
    "X_test = X_test / 255"
   ]
  },
  {
   "cell_type": "code",
   "execution_count": 10,
   "metadata": {},
   "outputs": [],
   "source": [
    "# one hot encode outputs\n",
    "y_train = np_utils(y_train)\n",
    "y_test = np_utils(y_test)\n",
    "num_classes = y_test.shape[1]"
   ]
  },
  {
   "cell_type": "code",
   "execution_count": 11,
   "metadata": {},
   "outputs": [],
   "source": [
    "# define baseline model\n",
    "def baseline_model():\n",
    "    # create model\n",
    "    model = Sequential()\n",
    "    model.add(Dense(num_pixels, input_dim=num_pixels, kernel_initializer='normal', activation='relu'))\n",
    "    model.add(Dense(num_classes, kernel_initializer='normal', activation='softmax'))\n",
    "    # Compile model\n",
    "    model.compile(loss='categorical_crossentropy', optimizer='adam', metrics=['accuracy'])\n",
    "    return model"
   ]
  },
  {
   "cell_type": "code",
   "execution_count": 12,
   "metadata": {},
   "outputs": [
    {
     "name": "stdout",
     "output_type": "stream",
     "text": [
      "Epoch 1/20\n",
      "300/300 - 2s - loss: 0.2813 - accuracy: 0.9202 - val_loss: 0.1472 - val_accuracy: 0.9579\n",
      "Epoch 2/20\n",
      "300/300 - 2s - loss: 0.1114 - accuracy: 0.9678 - val_loss: 0.0930 - val_accuracy: 0.9732\n",
      "Epoch 3/20\n",
      "300/300 - 2s - loss: 0.0710 - accuracy: 0.9797 - val_loss: 0.0784 - val_accuracy: 0.9757\n",
      "Epoch 4/20\n",
      "300/300 - 2s - loss: 0.0500 - accuracy: 0.9858 - val_loss: 0.0692 - val_accuracy: 0.9796\n",
      "Epoch 5/20\n",
      "300/300 - 2s - loss: 0.0348 - accuracy: 0.9903 - val_loss: 0.0669 - val_accuracy: 0.9779\n",
      "Epoch 6/20\n",
      "300/300 - 2s - loss: 0.0273 - accuracy: 0.9923 - val_loss: 0.0605 - val_accuracy: 0.9808\n",
      "Epoch 7/20\n",
      "300/300 - 2s - loss: 0.0202 - accuracy: 0.9949 - val_loss: 0.0585 - val_accuracy: 0.9826\n",
      "Epoch 8/20\n",
      "300/300 - 2s - loss: 0.0149 - accuracy: 0.9966 - val_loss: 0.0622 - val_accuracy: 0.9806\n",
      "Epoch 9/20\n",
      "300/300 - 2s - loss: 0.0117 - accuracy: 0.9973 - val_loss: 0.0559 - val_accuracy: 0.9827\n",
      "Epoch 10/20\n",
      "300/300 - 2s - loss: 0.0076 - accuracy: 0.9987 - val_loss: 0.0592 - val_accuracy: 0.9816\n",
      "Epoch 11/20\n",
      "300/300 - 2s - loss: 0.0055 - accuracy: 0.9993 - val_loss: 0.0617 - val_accuracy: 0.9818\n",
      "Epoch 12/20\n",
      "300/300 - 2s - loss: 0.0045 - accuracy: 0.9994 - val_loss: 0.0610 - val_accuracy: 0.9830\n",
      "Epoch 13/20\n",
      "300/300 - 2s - loss: 0.0035 - accuracy: 0.9995 - val_loss: 0.0604 - val_accuracy: 0.9841\n",
      "Epoch 14/20\n",
      "300/300 - 2s - loss: 0.0031 - accuracy: 0.9997 - val_loss: 0.0616 - val_accuracy: 0.9837\n",
      "Epoch 15/20\n",
      "300/300 - 2s - loss: 0.0016 - accuracy: 0.9999 - val_loss: 0.0610 - val_accuracy: 0.9834\n",
      "Epoch 16/20\n",
      "300/300 - 3s - loss: 0.0011 - accuracy: 1.0000 - val_loss: 0.0622 - val_accuracy: 0.9833\n",
      "Epoch 17/20\n",
      "300/300 - 2s - loss: 8.0036e-04 - accuracy: 1.0000 - val_loss: 0.0630 - val_accuracy: 0.9835\n",
      "Epoch 18/20\n",
      "300/300 - 2s - loss: 0.0126 - accuracy: 0.9959 - val_loss: 0.0987 - val_accuracy: 0.9744\n",
      "Epoch 19/20\n",
      "300/300 - 2s - loss: 0.0166 - accuracy: 0.9941 - val_loss: 0.0834 - val_accuracy: 0.9786\n",
      "Epoch 20/20\n",
      "300/300 - 3s - loss: 0.0055 - accuracy: 0.9984 - val_loss: 0.0673 - val_accuracy: 0.9816\n",
      "Baseline Error: 1.84%\n"
     ]
    }
   ],
   "source": [
    "# build the model\n",
    "model = baseline_model()\n",
    "# Fit the model\n",
    "model.fit(X_train, y_train, validation_data=(X_test, y_test), epochs=20, batch_size=200, verbose=2)\n",
    "# Final evaluation of the model\n",
    "scores = model.evaluate(X_test, y_test, verbose=0)\n",
    "print(\"Baseline Error: %.2f%%\" % (100-scores[1]*100))"
   ]
  },
  {
   "cell_type": "code",
   "execution_count": null,
   "metadata": {},
   "outputs": [],
   "source": []
  }
 ],
 "metadata": {
  "kernelspec": {
   "display_name": "Python 3",
   "language": "python",
   "name": "python3"
  },
  "language_info": {
   "codemirror_mode": {
    "name": "ipython",
    "version": 3
   },
   "file_extension": ".py",
   "mimetype": "text/x-python",
   "name": "python",
   "nbconvert_exporter": "python",
   "pygments_lexer": "ipython3",
   "version": "3.8.3"
  }
 },
 "nbformat": 4,
 "nbformat_minor": 4
}
